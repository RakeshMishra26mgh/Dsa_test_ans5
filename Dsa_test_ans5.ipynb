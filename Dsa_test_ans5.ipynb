{
  "nbformat": 4,
  "nbformat_minor": 0,
  "metadata": {
    "colab": {
      "provenance": [],
      "authorship_tag": "ABX9TyO3p+pK0UWwD3eWEiYkDh6r",
      "include_colab_link": true
    },
    "kernelspec": {
      "name": "python3",
      "display_name": "Python 3"
    },
    "language_info": {
      "name": "python"
    }
  },
  "cells": [
    {
      "cell_type": "markdown",
      "metadata": {
        "id": "view-in-github",
        "colab_type": "text"
      },
      "source": [
        "<a href=\"https://colab.research.google.com/github/RakeshMishra26mgh/Dsa_test_ans5/blob/main/Dsa_test_ans5.ipynb\" target=\"_parent\"><img src=\"https://colab.research.google.com/assets/colab-badge.svg\" alt=\"Open In Colab\"/></a>"
      ]
    },
    {
      "cell_type": "code",
      "source": [
        "class Stack:\n",
        "    def __init__(self):\n",
        "        self.items = []\n",
        "\n",
        "    def isEmpty(self):\n",
        "        return len(self.items) == 0\n",
        "\n",
        "    def push(self, item):\n",
        "        self.items.append(item)\n",
        "\n",
        "    def pop(self):\n",
        "        if self.isEmpty():\n",
        "            return None\n",
        "        else:\n",
        "            return self.items.pop()\n",
        "\n",
        "s = Stack()\n",
        "n = int(input(\"Enter the number of operations: \"))\n",
        "for i in range(n):\n",
        "    op = input(\"Enter the operation (push/pop/isEmpty): \")\n",
        "    if op == \"push\":\n",
        "        item = input(\"Enter the element to push: \")\n",
        "        s.push(item)\n",
        "        print(f\"Pushed {item} to the stack.\")\n",
        "    elif op == \"pop\":\n",
        "        item = s.pop()\n",
        "        if item is None:\n",
        "            print(\"The stack is empty.\")\n",
        "        else:\n",
        "            print(f\"Popped {item} from the stack.\")\n",
        "    elif op == \"isEmpty\":\n",
        "        if s.isEmpty():\n",
        "            print(\"The stack is empty.\")\n",
        "        else:\n",
        "            print(\"The stack is not empty.\")\n",
        "    else:\n",
        "        print(\"Invalid operation.\")\n"
      ],
      "metadata": {
        "id": "4K50Dh9hgWUU"
      },
      "execution_count": null,
      "outputs": []
    }
  ]
}